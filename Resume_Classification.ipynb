{
  "nbformat": 4,
  "nbformat_minor": 0,
  "metadata": {
    "colab": {
      "provenance": [],
      "gpuType": "T4"
    },
    "kernelspec": {
      "name": "python3",
      "display_name": "Python 3"
    },
    "language_info": {
      "name": "python"
    },
    "accelerator": "GPU"
  },
  "cells": [
    {
      "cell_type": "code",
      "source": [
        "# Importing necessary libraries\n",
        "import os\n",
        "import cv2\n",
        "import numpy as np\n",
        "import matplotlib.pyplot as plt\n",
        "import tensorflow as tf\n",
        "from tensorflow.keras.preprocessing.image import ImageDataGenerator\n",
        "from tensorflow.keras.applications import ResNet50\n",
        "from tensorflow.keras import layers, models, optimizers\n",
        "from tensorflow.keras.callbacks import EarlyStopping\n",
        "from sklearn.metrics import confusion_matrix, classification_report\n",
        "from tensorflow.keras import backend as K\n",
        "from tensorflow.keras.models import Sequential\n",
        "from tensorflow.keras.preprocessing import image\n",
        "from tensorflow.keras.models import load_model"
      ],
      "metadata": {
        "id": "1oNKIMZLiBZT"
      },
      "execution_count": 58,
      "outputs": []
    },
    {
      "cell_type": "code",
      "source": [
        "from google.colab import drive\n",
        "drive.mount('/content/drive')"
      ],
      "metadata": {
        "colab": {
          "base_uri": "https://localhost:8080/"
        },
        "id": "j9ah2SO0i_xT",
        "outputId": "982c615e-16ec-4e94-99f9-443577a870b8"
      },
      "execution_count": 59,
      "outputs": [
        {
          "output_type": "stream",
          "name": "stdout",
          "text": [
            "Drive already mounted at /content/drive; to attempt to forcibly remount, call drive.mount(\"/content/drive\", force_remount=True).\n"
          ]
        }
      ]
    },
    {
      "cell_type": "code",
      "source": [
        "# Creating a Function to resize images in a given folder\n",
        "\n",
        "def resize_images(folder_path, target_size=(224, 224)):\n",
        "    for filename in os.listdir(folder_path):\n",
        "        if filename.endswith(\".jpg\") or filename.endswith(\".jpeg\"):\n",
        "            filepath = os.path.join(folder_path, filename)\n",
        "            img = cv2.imread(filepath)\n",
        "            resized_img = cv2.resize(img, target_size)\n",
        "            cv2.imwrite(filepath, resized_img)\n",
        "\n",
        "# Resize images in the training set\n",
        "resize_images('/content/drive/MyDrive/Assignment/Assignment/Training/resume')\n",
        "resize_images('/content/drive/MyDrive/Assignment/Assignment/Training/non_resume')\n",
        "\n",
        "# Resize images in the testing set\n",
        "resize_images('/content/drive/MyDrive/Assignment/Assignment/Testing/resume')\n",
        "resize_images('/content/drive/MyDrive/Assignment/Assignment/Testing/non_resume')"
      ],
      "metadata": {
        "id": "wuObmksIzbfX"
      },
      "execution_count": 60,
      "outputs": []
    },
    {
      "cell_type": "code",
      "source": [
        "# Define paths\n",
        "train_data_dir = '/content/drive/MyDrive/Assignment/Assignment/Training'\n",
        "test_data_dir = '/content/drive/MyDrive/Assignment/Assignment/Testing'"
      ],
      "metadata": {
        "id": "i7GVxzxGjB3H"
      },
      "execution_count": 61,
      "outputs": []
    },
    {
      "cell_type": "code",
      "source": [
        "# Data Augmentation for Testing (with minimal augmentation)\n",
        "test_datagen = ImageDataGenerator(rescale=1./255)  # Only rescaling for testing"
      ],
      "metadata": {
        "id": "UBt5swb3AFLe"
      },
      "execution_count": 62,
      "outputs": []
    },
    {
      "cell_type": "code",
      "source": [
        "# Data Preparation for Training\n",
        "batch_size = 25\n",
        "\n",
        "train_datagen = ImageDataGenerator(\n",
        "    rescale=1./255,\n",
        "    rotation_range=30,\n",
        "    width_shift_range=0.2,\n",
        "    height_shift_range=0.2,\n",
        "    shear_range=0.2,\n",
        "    zoom_range=0.2,\n",
        "    horizontal_flip=True,\n",
        "    vertical_flip=True,\n",
        "    brightness_range=[0.5, 1.5],\n",
        "    fill_mode='nearest',\n",
        "    validation_split=0.2,  # 20% for validation\n",
        "    channel_shift_range=20,\n",
        "    featurewise_center=True,\n",
        "    featurewise_std_normalization=True,\n",
        "    zca_whitening=True,\n",
        ")"
      ],
      "metadata": {
        "colab": {
          "base_uri": "https://localhost:8080/"
        },
        "id": "1D9EyZWWlwac",
        "outputId": "7e69749a-ad43-404b-e378-91a6a9efeef8"
      },
      "execution_count": 63,
      "outputs": [
        {
          "output_type": "stream",
          "name": "stderr",
          "text": [
            "/usr/local/lib/python3.10/dist-packages/keras/src/preprocessing/image.py:1451: UserWarning: This ImageDataGenerator specifies `zca_whitening` which overrides setting of`featurewise_std_normalization`.\n",
            "  warnings.warn(\n"
          ]
        }
      ]
    },
    {
      "cell_type": "code",
      "source": [
        "# Data Preparation for Training\n",
        "train_generator = train_datagen.flow_from_directory(\n",
        "    train_data_dir,\n",
        "    target_size=(224, 224),\n",
        "    batch_size=batch_size,\n",
        "    class_mode='binary',\n",
        "    subset='training',  # 80% for training\n",
        ")"
      ],
      "metadata": {
        "colab": {
          "base_uri": "https://localhost:8080/"
        },
        "id": "43d7S9PLl2yZ",
        "outputId": "339a57a0-28a8-42a9-eea8-f984724adbb2"
      },
      "execution_count": 64,
      "outputs": [
        {
          "output_type": "stream",
          "name": "stdout",
          "text": [
            "Found 80 images belonging to 2 classes.\n"
          ]
        }
      ]
    },
    {
      "cell_type": "code",
      "source": [
        "# Data Preparation for Validation\n",
        "validation_generator = train_datagen.flow_from_directory(\n",
        "    train_data_dir,\n",
        "    target_size=(224, 224),\n",
        "    batch_size=batch_size,\n",
        "    class_mode='binary',\n",
        "    subset='validation',  # 20% for validation\n",
        ")"
      ],
      "metadata": {
        "colab": {
          "base_uri": "https://localhost:8080/"
        },
        "id": "1HvMd7scl7jR",
        "outputId": "43e6f86b-9858-4fc6-ea7a-c30b24f6b892"
      },
      "execution_count": 65,
      "outputs": [
        {
          "output_type": "stream",
          "name": "stdout",
          "text": [
            "Found 20 images belonging to 2 classes.\n"
          ]
        }
      ]
    },
    {
      "cell_type": "code",
      "source": [
        "# Early Stopping Callback\n",
        "early_stopping = EarlyStopping(monitor='val_loss', patience=3, restore_best_weights=True)"
      ],
      "metadata": {
        "id": "JDrijzVal9L7"
      },
      "execution_count": 66,
      "outputs": []
    },
    {
      "cell_type": "code",
      "source": [
        "# Loading the pre-trained ResNet50 model\n",
        "base_model = tf.keras.applications.ResNet50(input_shape=(224, 224, 3),\n",
        "                                            include_top=False,\n",
        "                                            weights='imagenet')\n",
        "\n",
        "# Freezing the pre-trained layers\n",
        "for layer in base_model.layers:\n",
        "    layer.trainable = False\n",
        "\n",
        "# Building my own custom model on top of the pre-trained ResNet50\n",
        "model = Sequential([\n",
        "    base_model,\n",
        "    layers.GlobalAveragePooling2D(),\n",
        "    layers.Dense(128, activation='relu'),\n",
        "    layers.Dropout(0.5),\n",
        "    layers.Dense(1, activation='sigmoid')\n",
        "])\n",
        "\n",
        "# Compiling the model\n",
        "model.compile(optimizer='adam', loss='binary_crossentropy', metrics=['accuracy'])"
      ],
      "metadata": {
        "id": "-hCTr0h0kC6r"
      },
      "execution_count": 67,
      "outputs": []
    },
    {
      "cell_type": "markdown",
      "source": [
        "The model selection in this code is based on utilizing the ResNet50 architecture for the resume classification task. The rationale behind this choice is:\n",
        "\n",
        "The choice of ResNet50, combined with additional layers and appropriate training strategies, reflects a robust approach for image classification tasks, ensuring effective learning and performance on the specific task of resume classification."
      ],
      "metadata": {
        "id": "mSUjWdmrvLjl"
      }
    },
    {
      "cell_type": "code",
      "source": [
        "# Model Training with Validation Data and Class Weights\n",
        "epochs = 20\n",
        "history = model.fit(\n",
        "    train_generator,\n",
        "    epochs=epochs,\n",
        "    validation_data=validation_generator,\n",
        "    callbacks=[early_stopping]\n",
        ")"
      ],
      "metadata": {
        "colab": {
          "base_uri": "https://localhost:8080/"
        },
        "id": "U3Uo3ePxmHuN",
        "outputId": "7bfdc583-f26d-4876-81b3-2724b713fbd2"
      },
      "execution_count": 68,
      "outputs": [
        {
          "output_type": "stream",
          "name": "stderr",
          "text": [
            "/usr/local/lib/python3.10/dist-packages/keras/src/preprocessing/image.py:1862: UserWarning: This ImageDataGenerator specifies `featurewise_center`, but it hasn't been fit on any training data. Fit it first by calling `.fit(numpy_data)`.\n",
            "  warnings.warn(\n",
            "/usr/local/lib/python3.10/dist-packages/keras/src/preprocessing/image.py:1885: UserWarning: This ImageDataGenerator specifies `zca_whitening`, but it hasn't been fit on any training data. Fit it first by calling `.fit(numpy_data)`.\n",
            "  warnings.warn(\n"
          ]
        },
        {
          "output_type": "stream",
          "name": "stdout",
          "text": [
            "Epoch 1/20\n",
            "4/4 [==============================] - 16s 3s/step - loss: 0.9836 - accuracy: 0.4250 - val_loss: 0.6824 - val_accuracy: 0.5000\n",
            "Epoch 2/20\n",
            "4/4 [==============================] - 2s 433ms/step - loss: 0.7530 - accuracy: 0.5250 - val_loss: 0.6964 - val_accuracy: 0.5000\n",
            "Epoch 3/20\n",
            "4/4 [==============================] - 2s 480ms/step - loss: 0.6992 - accuracy: 0.5625 - val_loss: 0.6722 - val_accuracy: 0.5000\n",
            "Epoch 4/20\n",
            "4/4 [==============================] - 2s 460ms/step - loss: 0.6995 - accuracy: 0.6125 - val_loss: 0.6696 - val_accuracy: 0.5000\n",
            "Epoch 5/20\n",
            "4/4 [==============================] - 3s 719ms/step - loss: 0.7828 - accuracy: 0.5250 - val_loss: 0.5954 - val_accuracy: 0.9000\n",
            "Epoch 6/20\n",
            "4/4 [==============================] - 3s 697ms/step - loss: 0.6209 - accuracy: 0.6625 - val_loss: 0.5742 - val_accuracy: 0.6500\n",
            "Epoch 7/20\n",
            "4/4 [==============================] - 2s 434ms/step - loss: 0.6589 - accuracy: 0.6000 - val_loss: 0.6349 - val_accuracy: 0.7000\n",
            "Epoch 8/20\n",
            "4/4 [==============================] - 2s 611ms/step - loss: 0.5553 - accuracy: 0.7250 - val_loss: 0.5651 - val_accuracy: 0.9000\n",
            "Epoch 9/20\n",
            "4/4 [==============================] - 2s 468ms/step - loss: 0.5704 - accuracy: 0.7125 - val_loss: 0.5541 - val_accuracy: 0.8500\n",
            "Epoch 10/20\n",
            "4/4 [==============================] - 2s 439ms/step - loss: 0.6200 - accuracy: 0.6000 - val_loss: 0.6000 - val_accuracy: 0.5000\n",
            "Epoch 11/20\n",
            "4/4 [==============================] - 3s 741ms/step - loss: 0.5945 - accuracy: 0.6875 - val_loss: 0.5521 - val_accuracy: 0.8500\n",
            "Epoch 12/20\n",
            "4/4 [==============================] - 3s 674ms/step - loss: 0.5095 - accuracy: 0.7625 - val_loss: 0.5215 - val_accuracy: 0.7500\n",
            "Epoch 13/20\n",
            "4/4 [==============================] - 2s 480ms/step - loss: 0.4822 - accuracy: 0.8125 - val_loss: 0.4476 - val_accuracy: 0.9000\n",
            "Epoch 14/20\n",
            "4/4 [==============================] - 2s 423ms/step - loss: 0.5401 - accuracy: 0.7375 - val_loss: 0.5356 - val_accuracy: 0.9500\n",
            "Epoch 15/20\n",
            "4/4 [==============================] - 2s 418ms/step - loss: 0.5075 - accuracy: 0.7375 - val_loss: 0.5013 - val_accuracy: 0.8500\n",
            "Epoch 16/20\n",
            "4/4 [==============================] - 2s 633ms/step - loss: 0.5080 - accuracy: 0.7500 - val_loss: 0.5795 - val_accuracy: 0.6500\n"
          ]
        }
      ]
    },
    {
      "cell_type": "code",
      "source": [
        "# Testing and Evaluation\n",
        "test_generator = test_datagen.flow_from_directory(\n",
        "    test_data_dir,\n",
        "    target_size=(224, 224),\n",
        "    batch_size=batch_size,\n",
        "    class_mode='binary',\n",
        "    shuffle=False\n",
        ")"
      ],
      "metadata": {
        "colab": {
          "base_uri": "https://localhost:8080/"
        },
        "id": "GPg9DPYamJW9",
        "outputId": "eac9f64a-e7c5-4b08-feef-d3a3aec44e5d"
      },
      "execution_count": 69,
      "outputs": [
        {
          "output_type": "stream",
          "name": "stdout",
          "text": [
            "Found 60 images belonging to 2 classes.\n"
          ]
        }
      ]
    },
    {
      "cell_type": "code",
      "source": [
        "# Predictions and Classifications\n",
        "predictions = model.predict(test_generator)\n",
        "predicted_classes = (predictions > 0.5).astype(int)"
      ],
      "metadata": {
        "colab": {
          "base_uri": "https://localhost:8080/"
        },
        "id": "mu7x2mF3mh5f",
        "outputId": "58b42ec2-531c-4750-890f-f78f0fce38b2"
      },
      "execution_count": 70,
      "outputs": [
        {
          "output_type": "stream",
          "name": "stdout",
          "text": [
            "3/3 [==============================] - 1s 105ms/step\n"
          ]
        }
      ]
    },
    {
      "cell_type": "code",
      "source": [
        "true_classes = test_generator.classes\n",
        "class_labels = list(test_generator.class_indices.keys())"
      ],
      "metadata": {
        "id": "bOPnpdfFmjto"
      },
      "execution_count": 71,
      "outputs": []
    },
    {
      "cell_type": "code",
      "source": [
        "# Confusion Matrix\n",
        "conf_matrix = confusion_matrix(true_classes, predicted_classes)\n",
        "classification_rep = classification_report(true_classes, predicted_classes)"
      ],
      "metadata": {
        "id": "FdYC79AjmmFQ"
      },
      "execution_count": 72,
      "outputs": []
    },
    {
      "cell_type": "code",
      "source": [
        "# plot of loss curves\n",
        "plt.plot(history.history['loss'], label='training loss')\n",
        "plt.plot(history.history['val_loss'], label='validation loss')\n",
        "plt.xlabel('epochs')\n",
        "plt.ylabel('loss')\n",
        "plt.legend()\n",
        "plt.show()"
      ],
      "metadata": {
        "colab": {
          "base_uri": "https://localhost:8080/",
          "height": 449
        },
        "id": "3i04zj7Zq1Ii",
        "outputId": "a38c8385-96af-4321-d0f5-36bec34fd67b"
      },
      "execution_count": 73,
      "outputs": [
        {
          "output_type": "display_data",
          "data": {
            "text/plain": [
              "<Figure size 640x480 with 1 Axes>"
            ],
            "image/png": "[encoded data removed]"
          },
          "metadata": {}
        }
      ]
    },
    {
      "cell_type": "markdown",
      "source": [
        "The evaluation metrics for project are:\n",
        "Confusion Matrix and Classification Report"
      ],
      "metadata": {
        "id": "KHlW5rhwwSUf"
      }
    },
    {
      "cell_type": "code",
      "source": [
        "# confusion matrix and classification report\n",
        "print(\"Confusion Matrix:\")\n",
        "print(conf_matrix)\n",
        "print(\"\\nClassification Report:\")\n",
        "print(classification_rep)"
      ],
      "metadata": {
        "colab": {
          "base_uri": "https://localhost:8080/"
        },
        "id": "Vf21WXHpmpqi",
        "outputId": "ba77c020-d02e-4ebf-a1d8-9f6f67f162fa"
      },
      "execution_count": 74,
      "outputs": [
        {
          "output_type": "stream",
          "name": "stdout",
          "text": [
            "Confusion Matrix:\n",
            "[[26  4]\n",
            " [ 1 29]]\n",
            "\n",
            "Classification Report:\n",
            "              precision    recall  f1-score   support\n",
            "\n",
            "           0       0.96      0.87      0.91        30\n",
            "           1       0.88      0.97      0.92        30\n",
            "\n",
            "    accuracy                           0.92        60\n",
            "   macro avg       0.92      0.92      0.92        60\n",
            "weighted avg       0.92      0.92      0.92        60\n",
            "\n"
          ]
        }
      ]
    },
    {
      "cell_type": "markdown",
      "source": [
        "Model's Strengths:High Accuracy and\n",
        "Balanced Precision and Recall\n",
        "\n",
        "Model's Limitations: Small Dataset Consideration"
      ],
      "metadata": {
        "id": "bnphaM3kwj36"
      }
    },
    {
      "cell_type": "markdown",
      "source": [
        "Significance of True Positives, False Positives, and False Negatives:\n",
        "\n",
        "True Positives (TP):\n",
        "Significance: True positives represent the successful identification of resumes.\n",
        "29 resumes correctly identified.\n",
        "\n",
        "False Positives (FP):\n",
        "Significance: False positives indicate the model's tendency to misclassify non-resumes as resumes\n",
        "4 non-resumes incorrectly classified as resumes.\n",
        "\n",
        "False Negatives (FN):\n",
        "Significance: False negatives highlight the model's failure to recognize actual resumes\n",
        "1 resume missed by the model\n"
      ],
      "metadata": {
        "id": "A0DKVKNXxY3x"
      }
    },
    {
      "cell_type": "code",
      "source": [
        "#saving the model\n",
        "model.save('/content/drive/MyDrive/Assignment/Assignment/resume_classifier_model.h5')"
      ],
      "metadata": {
        "colab": {
          "base_uri": "https://localhost:8080/"
        },
        "id": "w09ErPnso4O_",
        "outputId": "9074aa9f-389c-4204-8b01-72b275c30042"
      },
      "execution_count": 75,
      "outputs": [
        {
          "output_type": "stream",
          "name": "stderr",
          "text": [
            "/usr/local/lib/python3.10/dist-packages/keras/src/engine/training.py:3103: UserWarning: You are saving your model as an HDF5 file via `model.save()`. This file format is considered legacy. We recommend using instead the native Keras format, e.g. `model.save('my_model.keras')`.\n",
            "  saving_api.save_model(\n"
          ]
        }
      ]
    },
    {
      "cell_type": "code",
      "source": [
        "# Loading the trained model\n",
        "saved_model_path = '/content/drive/MyDrive/Assignment/Assignment/resume_classifier_model.h5'\n",
        "loaded_model = load_model(saved_model_path)"
      ],
      "metadata": {
        "id": "4tQcA6srqNGK"
      },
      "execution_count": 76,
      "outputs": []
    },
    {
      "cell_type": "code",
      "source": [
        "# Loading and preprocessing the new image\n",
        "new_image_path = '/content/resume_test.jpg'\n",
        "img = image.load_img(new_image_path, target_size=(224, 224))\n",
        "img_array = image.img_to_array(img)\n",
        "img_array = np.expand_dims(img_array, axis=0)\n",
        "img_array /= 255.0  # Normalize the image"
      ],
      "metadata": {
        "id": "iyvfvf3lqQDK"
      },
      "execution_count": 77,
      "outputs": []
    },
    {
      "cell_type": "code",
      "source": [
        "# predictions\n",
        "prediction = loaded_model.predict(img_array)\n",
        "\n",
        "# Interpret the prediction\n",
        "if prediction[0][0] > 0.5:\n",
        "    print(\"The image is classified as a resume.\")\n",
        "else:\n",
        "    print(\"The image is not classified as a resume.\")"
      ],
      "metadata": {
        "colab": {
          "base_uri": "https://localhost:8080/"
        },
        "id": "9HbrZSQFqRwS",
        "outputId": "6d785b0f-29ca-4835-ef5e-88e74ad3fe9f"
      },
      "execution_count": 78,
      "outputs": [
        {
          "output_type": "stream",
          "name": "stdout",
          "text": [
            "1/1 [==============================] - 1s 1s/step\n",
            "The image is classified as a resume.\n"
          ]
        }
      ]
    }
  ]
}